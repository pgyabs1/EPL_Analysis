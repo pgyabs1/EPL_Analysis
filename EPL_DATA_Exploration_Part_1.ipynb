{
 "cells": [
  {
   "cell_type": "markdown",
   "metadata": {},
   "source": [
    "# English Premier League Data Exploration (Seasons 19/20 & 20/21)\n",
    "## by Yaw Poku Gyabaah\n",
    "\n",
    "## Introduction\n",
    "> This data set explores whether the abscence of fans from stadiums during the covid period had any impact on match results for english premier league matches played during the 2019/2020 and 2020/2021 seasons.\n",
    "\n",
    "  \n",
    "\n",
    "\n",
    "\n",
    "## Preliminary Wrangling\n"
   ]
  },
  {
   "cell_type": "code",
   "execution_count": 223,
   "metadata": {},
   "outputs": [],
   "source": [
    "# import all packages and set plots to be embedded inline\n",
    "import numpy as np\n",
    "import pandas as pd\n",
    "import matplotlib.pyplot as plt\n",
    "import seaborn as sb\n",
    "\n",
    "%matplotlib inline\n",
    "pd.set_option('display.max_rows', None)"
   ]
  },
  {
   "cell_type": "code",
   "execution_count": 42,
   "metadata": {},
   "outputs": [],
   "source": [
    "# Loading datasets for the two seasons into a pandas dataframe\n",
    "epl_2019_20=pd.read_csv(r'C:\\Users\\gyabaah.poku\\OneDrive - Vodafone Group\\VDF Project\\PY\\Udacity Data Science\\English Premier League Database\\2019-20.csv')\n",
    "epl_2020_21=pd.read_csv(r'C:\\Users\\gyabaah.poku\\OneDrive - Vodafone Group\\VDF Project\\PY\\Udacity Data Science\\English Premier League Database\\2020-21.csv')\n"
   ]
  },
  {
   "cell_type": "code",
   "execution_count": 45,
   "metadata": {},
   "outputs": [],
   "source": [
    "# Adding another column to show which season any specific row of data belongs to\n",
    "epl_2019_20.loc[:, 'season'] = '19_20'\n",
    "epl_2020_21.loc[:, 'season'] = '20_21'"
   ]
  },
  {
   "cell_type": "code",
   "execution_count": 46,
   "metadata": {},
   "outputs": [],
   "source": [
    "# Merging the two sheets to form one dataset stored in a pandas dataframe named epl_data\n",
    "epl_data = pd.concat([epl_2019_20,epl_2020_21])\n"
   ]
  },
  {
   "cell_type": "code",
   "execution_count": 47,
   "metadata": {
    "scrolled": false
   },
   "outputs": [
    {
     "data": {
      "text/html": [
       "<div>\n",
       "<style scoped>\n",
       "    .dataframe tbody tr th:only-of-type {\n",
       "        vertical-align: middle;\n",
       "    }\n",
       "\n",
       "    .dataframe tbody tr th {\n",
       "        vertical-align: top;\n",
       "    }\n",
       "\n",
       "    .dataframe thead th {\n",
       "        text-align: right;\n",
       "    }\n",
       "</style>\n",
       "<table border=\"1\" class=\"dataframe\">\n",
       "  <thead>\n",
       "    <tr style=\"text-align: right;\">\n",
       "      <th></th>\n",
       "      <th>Div</th>\n",
       "      <th>Date</th>\n",
       "      <th>Time</th>\n",
       "      <th>HomeTeam</th>\n",
       "      <th>AwayTeam</th>\n",
       "      <th>FTHG</th>\n",
       "      <th>FTAG</th>\n",
       "      <th>FTR</th>\n",
       "      <th>HTHG</th>\n",
       "      <th>HTAG</th>\n",
       "      <th>...</th>\n",
       "      <th>AHCh</th>\n",
       "      <th>B365CAHH</th>\n",
       "      <th>B365CAHA</th>\n",
       "      <th>PCAHH</th>\n",
       "      <th>PCAHA</th>\n",
       "      <th>MaxCAHH</th>\n",
       "      <th>MaxCAHA</th>\n",
       "      <th>AvgCAHH</th>\n",
       "      <th>AvgCAHA</th>\n",
       "      <th>season</th>\n",
       "    </tr>\n",
       "  </thead>\n",
       "  <tbody>\n",
       "    <tr>\n",
       "      <th>0</th>\n",
       "      <td>E0</td>\n",
       "      <td>09/08/2019</td>\n",
       "      <td>20:00</td>\n",
       "      <td>Liverpool</td>\n",
       "      <td>Norwich</td>\n",
       "      <td>4</td>\n",
       "      <td>1</td>\n",
       "      <td>H</td>\n",
       "      <td>4</td>\n",
       "      <td>0</td>\n",
       "      <td>...</td>\n",
       "      <td>-2.25</td>\n",
       "      <td>1.91</td>\n",
       "      <td>1.99</td>\n",
       "      <td>1.94</td>\n",
       "      <td>1.98</td>\n",
       "      <td>1.99</td>\n",
       "      <td>2.07</td>\n",
       "      <td>1.90</td>\n",
       "      <td>1.99</td>\n",
       "      <td>19_20</td>\n",
       "    </tr>\n",
       "    <tr>\n",
       "      <th>1</th>\n",
       "      <td>E0</td>\n",
       "      <td>10/08/2019</td>\n",
       "      <td>12:30</td>\n",
       "      <td>West Ham</td>\n",
       "      <td>Man City</td>\n",
       "      <td>0</td>\n",
       "      <td>5</td>\n",
       "      <td>A</td>\n",
       "      <td>0</td>\n",
       "      <td>1</td>\n",
       "      <td>...</td>\n",
       "      <td>1.75</td>\n",
       "      <td>1.95</td>\n",
       "      <td>1.95</td>\n",
       "      <td>1.96</td>\n",
       "      <td>1.97</td>\n",
       "      <td>2.07</td>\n",
       "      <td>1.98</td>\n",
       "      <td>1.97</td>\n",
       "      <td>1.92</td>\n",
       "      <td>19_20</td>\n",
       "    </tr>\n",
       "    <tr>\n",
       "      <th>2</th>\n",
       "      <td>E0</td>\n",
       "      <td>10/08/2019</td>\n",
       "      <td>15:00</td>\n",
       "      <td>Bournemouth</td>\n",
       "      <td>Sheffield United</td>\n",
       "      <td>1</td>\n",
       "      <td>1</td>\n",
       "      <td>D</td>\n",
       "      <td>0</td>\n",
       "      <td>0</td>\n",
       "      <td>...</td>\n",
       "      <td>-0.50</td>\n",
       "      <td>1.95</td>\n",
       "      <td>1.95</td>\n",
       "      <td>1.98</td>\n",
       "      <td>1.95</td>\n",
       "      <td>2.00</td>\n",
       "      <td>1.96</td>\n",
       "      <td>1.96</td>\n",
       "      <td>1.92</td>\n",
       "      <td>19_20</td>\n",
       "    </tr>\n",
       "    <tr>\n",
       "      <th>3</th>\n",
       "      <td>E0</td>\n",
       "      <td>10/08/2019</td>\n",
       "      <td>15:00</td>\n",
       "      <td>Burnley</td>\n",
       "      <td>Southampton</td>\n",
       "      <td>3</td>\n",
       "      <td>0</td>\n",
       "      <td>H</td>\n",
       "      <td>0</td>\n",
       "      <td>0</td>\n",
       "      <td>...</td>\n",
       "      <td>0.00</td>\n",
       "      <td>1.87</td>\n",
       "      <td>2.03</td>\n",
       "      <td>1.89</td>\n",
       "      <td>2.03</td>\n",
       "      <td>1.90</td>\n",
       "      <td>2.07</td>\n",
       "      <td>1.86</td>\n",
       "      <td>2.02</td>\n",
       "      <td>19_20</td>\n",
       "    </tr>\n",
       "    <tr>\n",
       "      <th>4</th>\n",
       "      <td>E0</td>\n",
       "      <td>10/08/2019</td>\n",
       "      <td>15:00</td>\n",
       "      <td>Crystal Palace</td>\n",
       "      <td>Everton</td>\n",
       "      <td>0</td>\n",
       "      <td>0</td>\n",
       "      <td>D</td>\n",
       "      <td>0</td>\n",
       "      <td>0</td>\n",
       "      <td>...</td>\n",
       "      <td>0.25</td>\n",
       "      <td>1.82</td>\n",
       "      <td>2.08</td>\n",
       "      <td>1.97</td>\n",
       "      <td>1.96</td>\n",
       "      <td>2.03</td>\n",
       "      <td>2.08</td>\n",
       "      <td>1.96</td>\n",
       "      <td>1.93</td>\n",
       "      <td>19_20</td>\n",
       "    </tr>\n",
       "  </tbody>\n",
       "</table>\n",
       "<p>5 rows × 108 columns</p>\n",
       "</div>"
      ],
      "text/plain": [
       "  Div        Date   Time        HomeTeam          AwayTeam  FTHG  FTAG FTR  \\\n",
       "0  E0  09/08/2019  20:00       Liverpool           Norwich     4     1   H   \n",
       "1  E0  10/08/2019  12:30        West Ham          Man City     0     5   A   \n",
       "2  E0  10/08/2019  15:00     Bournemouth  Sheffield United     1     1   D   \n",
       "3  E0  10/08/2019  15:00         Burnley       Southampton     3     0   H   \n",
       "4  E0  10/08/2019  15:00  Crystal Palace           Everton     0     0   D   \n",
       "\n",
       "   HTHG  HTAG  ...  AHCh B365CAHH B365CAHA  PCAHH  PCAHA  MaxCAHH  MaxCAHA  \\\n",
       "0     4     0  ... -2.25     1.91     1.99   1.94   1.98     1.99     2.07   \n",
       "1     0     1  ...  1.75     1.95     1.95   1.96   1.97     2.07     1.98   \n",
       "2     0     0  ... -0.50     1.95     1.95   1.98   1.95     2.00     1.96   \n",
       "3     0     0  ...  0.00     1.87     2.03   1.89   2.03     1.90     2.07   \n",
       "4     0     0  ...  0.25     1.82     2.08   1.97   1.96     2.03     2.08   \n",
       "\n",
       "   AvgCAHH  AvgCAHA  season  \n",
       "0     1.90     1.99   19_20  \n",
       "1     1.97     1.92   19_20  \n",
       "2     1.96     1.92   19_20  \n",
       "3     1.86     2.02   19_20  \n",
       "4     1.96     1.93   19_20  \n",
       "\n",
       "[5 rows x 108 columns]"
      ]
     },
     "execution_count": 47,
     "metadata": {},
     "output_type": "execute_result"
    }
   ],
   "source": [
    "epl_data.head()"
   ]
  },
  {
   "cell_type": "code",
   "execution_count": 71,
   "metadata": {},
   "outputs": [
    {
     "data": {
      "text/plain": [
       "760"
      ]
     },
     "execution_count": 71,
     "metadata": {},
     "output_type": "execute_result"
    }
   ],
   "source": [
    "# Confirming that the dataset qualifies for use for this project y having more than 600 rows\n",
    "len(epl_data)"
   ]
  },
  {
   "cell_type": "code",
   "execution_count": 72,
   "metadata": {},
   "outputs": [
    {
     "name": "stdout",
     "output_type": "stream",
     "text": [
      "<class 'pandas.core.frame.DataFrame'>\n",
      "Int64Index: 760 entries, 0 to 379\n",
      "Data columns (total 111 columns):\n",
      " #    Column      Non-Null Count  Dtype  \n",
      "---   ------      --------------  -----  \n",
      " 0    Div         760 non-null    object \n",
      " 1    Date        760 non-null    object \n",
      " 2    Time        760 non-null    object \n",
      " 3    HomeTeam    760 non-null    object \n",
      " 4    AwayTeam    760 non-null    object \n",
      " 5    FTHG        760 non-null    int64  \n",
      " 6    FTAG        760 non-null    int64  \n",
      " 7    FTR         760 non-null    object \n",
      " 8    HTHG        760 non-null    int64  \n",
      " 9    HTAG        760 non-null    int64  \n",
      " 10   HTR         760 non-null    object \n",
      " 11   Attendance  760 non-null    object \n",
      " 12   Referee     760 non-null    object \n",
      " 13   HS          760 non-null    int64  \n",
      " 14   AS          760 non-null    int64  \n",
      " 15   HST         760 non-null    int64  \n",
      " 16   AST         760 non-null    int64  \n",
      " 17   HF          760 non-null    int64  \n",
      " 18   AF          760 non-null    int64  \n",
      " 19   HC          760 non-null    int64  \n",
      " 20   AC          760 non-null    int64  \n",
      " 21   HY          760 non-null    int64  \n",
      " 22   AY          760 non-null    int64  \n",
      " 23   HR          760 non-null    int64  \n",
      " 24   AR          760 non-null    int64  \n",
      " 25   B365H       760 non-null    float64\n",
      " 26   B365D       760 non-null    float64\n",
      " 27   B365A       760 non-null    float64\n",
      " 28   BWH         760 non-null    float64\n",
      " 29   BWD         760 non-null    float64\n",
      " 30   BWA         760 non-null    float64\n",
      " 31   IWH         760 non-null    float64\n",
      " 32   IWD         760 non-null    float64\n",
      " 33   IWA         760 non-null    float64\n",
      " 34   PSH         760 non-null    float64\n",
      " 35   PSD         760 non-null    float64\n",
      " 36   PSA         760 non-null    float64\n",
      " 37   WHH         760 non-null    float64\n",
      " 38   WHD         760 non-null    float64\n",
      " 39   WHA         760 non-null    float64\n",
      " 40   VCH         760 non-null    float64\n",
      " 41   VCD         760 non-null    float64\n",
      " 42   VCA         760 non-null    float64\n",
      " 43   MaxH        760 non-null    float64\n",
      " 44   MaxD        760 non-null    float64\n",
      " 45   MaxA        760 non-null    float64\n",
      " 46   AvgH        760 non-null    float64\n",
      " 47   AvgD        760 non-null    float64\n",
      " 48   AvgA        760 non-null    float64\n",
      " 49   B365>2.5    760 non-null    float64\n",
      " 50   B365<2.5    760 non-null    float64\n",
      " 51   P>2.5       760 non-null    float64\n",
      " 52   P<2.5       760 non-null    float64\n",
      " 53   Max>2.5     760 non-null    float64\n",
      " 54   Max<2.5     760 non-null    float64\n",
      " 55   Avg>2.5     760 non-null    float64\n",
      " 56   Avg<2.5     760 non-null    float64\n",
      " 57   AHh         760 non-null    float64\n",
      " 58   B365AHH     760 non-null    float64\n",
      " 59   B365AHA     760 non-null    float64\n",
      " 60   PAHH        760 non-null    float64\n",
      " 61   PAHA        760 non-null    float64\n",
      " 62   MaxAHH      760 non-null    float64\n",
      " 63   MaxAHA      760 non-null    float64\n",
      " 64   AvgAHH      760 non-null    float64\n",
      " 65   AvgAHA      760 non-null    float64\n",
      " 66   B365CH      760 non-null    float64\n",
      " 67   B365CD      760 non-null    float64\n",
      " 68   B365CA      760 non-null    float64\n",
      " 69   BWCH        760 non-null    float64\n",
      " 70   BWCD        760 non-null    float64\n",
      " 71   BWCA        760 non-null    float64\n",
      " 72   IWCH        760 non-null    float64\n",
      " 73   IWCD        760 non-null    float64\n",
      " 74   IWCA        760 non-null    float64\n",
      " 75   PSCH        760 non-null    float64\n",
      " 76   PSCD        760 non-null    float64\n",
      " 77   PSCA        760 non-null    float64\n",
      " 78   WHCH        760 non-null    float64\n",
      " 79   WHCD        760 non-null    float64\n",
      " 80   WHCA        760 non-null    float64\n",
      " 81   VCCH        760 non-null    float64\n",
      " 82   VCCD        760 non-null    float64\n",
      " 83   VCCA        760 non-null    float64\n",
      " 84   MaxCH       760 non-null    float64\n",
      " 85   MaxCD       760 non-null    float64\n",
      " 86   MaxCA       760 non-null    float64\n",
      " 87   AvgCH       760 non-null    float64\n",
      " 88   AvgCD       760 non-null    float64\n",
      " 89   AvgCA       760 non-null    float64\n",
      " 90   B365C>2.5   760 non-null    float64\n",
      " 91   B365C<2.5   760 non-null    float64\n",
      " 92   PC>2.5      760 non-null    float64\n",
      " 93   PC<2.5      760 non-null    float64\n",
      " 94   MaxC>2.5    760 non-null    float64\n",
      " 95   MaxC<2.5    760 non-null    float64\n",
      " 96   AvgC>2.5    760 non-null    float64\n",
      " 97   AvgC<2.5    760 non-null    float64\n",
      " 98   AHCh        760 non-null    float64\n",
      " 99   B365CAHH    760 non-null    float64\n",
      " 100  B365CAHA    760 non-null    float64\n",
      " 101  PCAHH       760 non-null    float64\n",
      " 102  PCAHA       760 non-null    float64\n",
      " 103  MaxCAHH     760 non-null    float64\n",
      " 104  MaxCAHA     760 non-null    float64\n",
      " 105  AvgCAHH     760 non-null    float64\n",
      " 106  AvgCAHA     760 non-null    float64\n",
      " 107  season      760 non-null    object \n",
      " 108  TG          760 non-null    int64  \n",
      " 109  THTG        760 non-null    int64  \n",
      " 110  SHG         760 non-null    int64  \n",
      "dtypes: float64(82), int64(19), object(10)\n",
      "memory usage: 665.0+ KB\n"
     ]
    }
   ],
   "source": [
    "epl_data.info(verbose=True, show_counts=True)"
   ]
  },
  {
   "cell_type": "markdown",
   "metadata": {},
   "source": [
    "### What is the structure of your dataset?\n",
    "\n",
    "> My dataset contains match and results statistics for 760 english premier league matches played during the 2019-2020 and 2020-2021 seasons. These individual matches are qualified with 107 variables. There are a number of numeric variables that describe goals scored by half-time, goals scored by full-time, goals scored by away team, goals scored by home team as well as betting odds before the game. There also are a number of nominal variables like Full-time match results and half-time match results. \n",
    "\n",
    "### What is/are the main feature(s) of interest in your dataset?\n",
    "\n",
    "> I am most interested in what match statistics are best for determining how the closure of stadiums to fans impacted home advantage\n",
    "\n",
    "### What features in the dataset do you think will help support your investigation into your feature(s) of interest?\n",
    "\n",
    "> I expect that the biggest effect of fans or no fans at stadiums will be seen in goals scored by the home team as well as full time result for the home team"
   ]
  },
  {
   "cell_type": "markdown",
   "metadata": {},
   "source": [
    "## Univariate Exploration"
   ]
  },
  {
   "cell_type": "markdown",
   "metadata": {},
   "source": [
    "#### I will start by merging the sheets for the two seasons to get one worksheet which i will name epl_data"
   ]
  },
  {
   "cell_type": "code",
   "execution_count": 51,
   "metadata": {},
   "outputs": [],
   "source": [
    "epl_data.loc[:, 'TG'] = epl_data.FTHG + epl_data.FTAG\n",
    "epl_data.loc[:, 'THTG'] = epl_data.HTHG + epl_data.HTAG\n",
    "epl_data.loc[:, 'SHG'] = epl_data.TG - epl_data.THTG"
   ]
  },
  {
   "cell_type": "code",
   "execution_count": 53,
   "metadata": {
    "scrolled": true
   },
   "outputs": [
    {
     "data": {
      "text/html": [
       "<div>\n",
       "<style scoped>\n",
       "    .dataframe tbody tr th:only-of-type {\n",
       "        vertical-align: middle;\n",
       "    }\n",
       "\n",
       "    .dataframe tbody tr th {\n",
       "        vertical-align: top;\n",
       "    }\n",
       "\n",
       "    .dataframe thead th {\n",
       "        text-align: right;\n",
       "    }\n",
       "</style>\n",
       "<table border=\"1\" class=\"dataframe\">\n",
       "  <thead>\n",
       "    <tr style=\"text-align: right;\">\n",
       "      <th></th>\n",
       "      <th>Div</th>\n",
       "      <th>Date</th>\n",
       "      <th>Time</th>\n",
       "      <th>HomeTeam</th>\n",
       "      <th>AwayTeam</th>\n",
       "      <th>FTHG</th>\n",
       "      <th>FTAG</th>\n",
       "      <th>FTR</th>\n",
       "      <th>HTHG</th>\n",
       "      <th>HTAG</th>\n",
       "      <th>...</th>\n",
       "      <th>PCAHH</th>\n",
       "      <th>PCAHA</th>\n",
       "      <th>MaxCAHH</th>\n",
       "      <th>MaxCAHA</th>\n",
       "      <th>AvgCAHH</th>\n",
       "      <th>AvgCAHA</th>\n",
       "      <th>season</th>\n",
       "      <th>TG</th>\n",
       "      <th>THTG</th>\n",
       "      <th>SHG</th>\n",
       "    </tr>\n",
       "  </thead>\n",
       "  <tbody>\n",
       "    <tr>\n",
       "      <th>0</th>\n",
       "      <td>E0</td>\n",
       "      <td>09/08/2019</td>\n",
       "      <td>20:00</td>\n",
       "      <td>Liverpool</td>\n",
       "      <td>Norwich</td>\n",
       "      <td>4</td>\n",
       "      <td>1</td>\n",
       "      <td>H</td>\n",
       "      <td>4</td>\n",
       "      <td>0</td>\n",
       "      <td>...</td>\n",
       "      <td>1.94</td>\n",
       "      <td>1.98</td>\n",
       "      <td>1.99</td>\n",
       "      <td>2.07</td>\n",
       "      <td>1.90</td>\n",
       "      <td>1.99</td>\n",
       "      <td>19_20</td>\n",
       "      <td>5</td>\n",
       "      <td>4</td>\n",
       "      <td>1</td>\n",
       "    </tr>\n",
       "    <tr>\n",
       "      <th>1</th>\n",
       "      <td>E0</td>\n",
       "      <td>10/08/2019</td>\n",
       "      <td>12:30</td>\n",
       "      <td>West Ham</td>\n",
       "      <td>Man City</td>\n",
       "      <td>0</td>\n",
       "      <td>5</td>\n",
       "      <td>A</td>\n",
       "      <td>0</td>\n",
       "      <td>1</td>\n",
       "      <td>...</td>\n",
       "      <td>1.96</td>\n",
       "      <td>1.97</td>\n",
       "      <td>2.07</td>\n",
       "      <td>1.98</td>\n",
       "      <td>1.97</td>\n",
       "      <td>1.92</td>\n",
       "      <td>19_20</td>\n",
       "      <td>5</td>\n",
       "      <td>1</td>\n",
       "      <td>4</td>\n",
       "    </tr>\n",
       "    <tr>\n",
       "      <th>2</th>\n",
       "      <td>E0</td>\n",
       "      <td>10/08/2019</td>\n",
       "      <td>15:00</td>\n",
       "      <td>Bournemouth</td>\n",
       "      <td>Sheffield United</td>\n",
       "      <td>1</td>\n",
       "      <td>1</td>\n",
       "      <td>D</td>\n",
       "      <td>0</td>\n",
       "      <td>0</td>\n",
       "      <td>...</td>\n",
       "      <td>1.98</td>\n",
       "      <td>1.95</td>\n",
       "      <td>2.00</td>\n",
       "      <td>1.96</td>\n",
       "      <td>1.96</td>\n",
       "      <td>1.92</td>\n",
       "      <td>19_20</td>\n",
       "      <td>2</td>\n",
       "      <td>0</td>\n",
       "      <td>2</td>\n",
       "    </tr>\n",
       "    <tr>\n",
       "      <th>3</th>\n",
       "      <td>E0</td>\n",
       "      <td>10/08/2019</td>\n",
       "      <td>15:00</td>\n",
       "      <td>Burnley</td>\n",
       "      <td>Southampton</td>\n",
       "      <td>3</td>\n",
       "      <td>0</td>\n",
       "      <td>H</td>\n",
       "      <td>0</td>\n",
       "      <td>0</td>\n",
       "      <td>...</td>\n",
       "      <td>1.89</td>\n",
       "      <td>2.03</td>\n",
       "      <td>1.90</td>\n",
       "      <td>2.07</td>\n",
       "      <td>1.86</td>\n",
       "      <td>2.02</td>\n",
       "      <td>19_20</td>\n",
       "      <td>3</td>\n",
       "      <td>0</td>\n",
       "      <td>3</td>\n",
       "    </tr>\n",
       "    <tr>\n",
       "      <th>4</th>\n",
       "      <td>E0</td>\n",
       "      <td>10/08/2019</td>\n",
       "      <td>15:00</td>\n",
       "      <td>Crystal Palace</td>\n",
       "      <td>Everton</td>\n",
       "      <td>0</td>\n",
       "      <td>0</td>\n",
       "      <td>D</td>\n",
       "      <td>0</td>\n",
       "      <td>0</td>\n",
       "      <td>...</td>\n",
       "      <td>1.97</td>\n",
       "      <td>1.96</td>\n",
       "      <td>2.03</td>\n",
       "      <td>2.08</td>\n",
       "      <td>1.96</td>\n",
       "      <td>1.93</td>\n",
       "      <td>19_20</td>\n",
       "      <td>0</td>\n",
       "      <td>0</td>\n",
       "      <td>0</td>\n",
       "    </tr>\n",
       "  </tbody>\n",
       "</table>\n",
       "<p>5 rows × 111 columns</p>\n",
       "</div>"
      ],
      "text/plain": [
       "  Div        Date   Time        HomeTeam          AwayTeam  FTHG  FTAG FTR  \\\n",
       "0  E0  09/08/2019  20:00       Liverpool           Norwich     4     1   H   \n",
       "1  E0  10/08/2019  12:30        West Ham          Man City     0     5   A   \n",
       "2  E0  10/08/2019  15:00     Bournemouth  Sheffield United     1     1   D   \n",
       "3  E0  10/08/2019  15:00         Burnley       Southampton     3     0   H   \n",
       "4  E0  10/08/2019  15:00  Crystal Palace           Everton     0     0   D   \n",
       "\n",
       "   HTHG  HTAG  ... PCAHH PCAHA MaxCAHH  MaxCAHA  AvgCAHH  AvgCAHA  season  TG  \\\n",
       "0     4     0  ...  1.94  1.98    1.99     2.07     1.90     1.99   19_20   5   \n",
       "1     0     1  ...  1.96  1.97    2.07     1.98     1.97     1.92   19_20   5   \n",
       "2     0     0  ...  1.98  1.95    2.00     1.96     1.96     1.92   19_20   2   \n",
       "3     0     0  ...  1.89  2.03    1.90     2.07     1.86     2.02   19_20   3   \n",
       "4     0     0  ...  1.97  1.96    2.03     2.08     1.96     1.93   19_20   0   \n",
       "\n",
       "   THTG  SHG  \n",
       "0     4    1  \n",
       "1     1    4  \n",
       "2     0    2  \n",
       "3     0    3  \n",
       "4     0    0  \n",
       "\n",
       "[5 rows x 111 columns]"
      ]
     },
     "execution_count": 53,
     "metadata": {},
     "output_type": "execute_result"
    }
   ],
   "source": [
    "epl_data.head()"
   ]
  },
  {
   "cell_type": "code",
   "execution_count": 68,
   "metadata": {
    "scrolled": true
   },
   "outputs": [
    {
     "data": {
      "image/png": "[encoded data removed]",
      "text/plain": [
       "<Figure size 432x288 with 1 Axes>"
      ]
     },
     "metadata": {
      "needs_background": "light"
     },
     "output_type": "display_data"
    }
   ],
   "source": [
    "# Standard Scale histogram to show distribution of total goals scored in matches\n",
    "epl_data.TG.plot(kind='hist')\n",
    "plt.title(label='Total Goals by Full-Time')\n",
    "plt.xlabel('Total Goals Scored')\n",
    "plt.show()"
   ]
  },
  {
   "cell_type": "markdown",
   "metadata": {},
   "source": [
    "###### The above histogram shows that most matches featured a total of 2 to 3 goals. Matches with more than 5 goals scored were very scarce."
   ]
  },
  {
   "cell_type": "code",
   "execution_count": 319,
   "metadata": {
    "scrolled": false
   },
   "outputs": [
    {
     "data": {
      "image/png": "[encoded data removed]",
      "text/plain": [
       "<Figure size 432x288 with 1 Axes>"
      ]
     },
     "metadata": {
      "needs_background": "light"
     },
     "output_type": "display_data"
    }
   ],
   "source": [
    "#  Using a box plot to check outliers in total goals scored in matches\n",
    "epl_data.TG.plot(kind='box')\n",
    "plt.title(label='Total Goals by Full-Time')\n",
    "plt.xlabel('Total Goals Scored')\n",
    "plt.show()"
   ]
  },
  {
   "cell_type": "markdown",
   "metadata": {},
   "source": [
    "###### The above boxplot complements the earlier histogram perfectly and also confirms that matches with more than 6 goals scored were mostly outliers."
   ]
  },
  {
   "cell_type": "code",
   "execution_count": 322,
   "metadata": {},
   "outputs": [
    {
     "data": {
      "text/plain": [
       "<AxesSubplot:title={'center':'FTHG'}, xlabel='FTR'>"
      ]
     },
     "execution_count": 322,
     "metadata": {},
     "output_type": "execute_result"
    },
    {
     "data": {
      "image/png": "[encoded data removed]",
      "text/plain": [
       "<Figure size 432x288 with 1 Axes>"
      ]
     },
     "metadata": {
      "needs_background": "light"
     },
     "output_type": "display_data"
    }
   ],
   "source": [
    "epl_data.boxplot(by='FTR', column='FTHG')"
   ]
  },
  {
   "cell_type": "markdown",
   "metadata": {},
   "source": [
    "##### Further exploration with boxplot shows that for games won by the home team, the home team mostly scored between 2 and 4 goals, however for drawn games or games won by the away team, the home team usually scored no goal or just one goal."
   ]
  },
  {
   "cell_type": "code",
   "execution_count": 325,
   "metadata": {
    "scrolled": true
   },
   "outputs": [
    {
     "data": {
      "text/plain": [
       "<AxesSubplot:title={'center':'TG'}, xlabel='FTR'>"
      ]
     },
     "execution_count": 325,
     "metadata": {},
     "output_type": "execute_result"
    },
    {
     "data": {
      "image/png": "[encoded data removed]",
      "text/plain": [
       "<Figure size 432x288 with 1 Axes>"
      ]
     },
     "metadata": {
      "needs_background": "light"
     },
     "output_type": "display_data"
    }
   ],
   "source": [
    "epl_data.boxplot(by='FTR', column='TG')"
   ]
  },
  {
   "cell_type": "markdown",
   "metadata": {},
   "source": [
    "##### Further exploration with boxplot shows that for games won by the home team, total goals scored by both team was usually between 2 and 4 goals. The same was apparent for games won by the away team.However drawn games, total goals scored by both teams was usally between 0 to 2."
   ]
  },
  {
   "cell_type": "code",
   "execution_count": 323,
   "metadata": {},
   "outputs": [
    {
     "data": {
      "text/plain": [
       "<AxesSubplot:title={'center':'FTHG'}, xlabel='Attendance'>"
      ]
     },
     "execution_count": 323,
     "metadata": {},
     "output_type": "execute_result"
    },
    {
     "data": {
      "image/png": "[encoded data removed]",
      "text/plain": [
       "<Figure size 432x288 with 1 Axes>"
      ]
     },
     "metadata": {
      "needs_background": "light"
     },
     "output_type": "display_data"
    }
   ],
   "source": [
    "epl_data.boxplot(by='Attendance', column='FTHG')\n"
   ]
  },
  {
   "cell_type": "markdown",
   "metadata": {},
   "source": [
    "##### Checking impact of fan prescence at home games,  it was observed from the above box plot that when fans were allowed in stadiums, the home team almost always scored a goal at least. However, there were more cases of the home team not scoring at all when fans were not allowed in stadiums during the covid restrictions."
   ]
  },
  {
   "cell_type": "code",
   "execution_count": 67,
   "metadata": {},
   "outputs": [
    {
     "data": {
      "image/png": "[encoded data removed]",
      "text/plain": [
       "<Figure size 432x288 with 1 Axes>"
      ]
     },
     "metadata": {
      "needs_background": "light"
     },
     "output_type": "display_data"
    }
   ],
   "source": [
    "epl_data.THTG.plot(kind='hist')\n",
    "plt.title(label='Half Time Goals')\n",
    "plt.xlabel('Goals scored by Half Time')\n",
    "plt.show()"
   ]
  },
  {
   "cell_type": "code",
   "execution_count": 56,
   "metadata": {},
   "outputs": [],
   "source": [
    "first_half_goals = epl_data.THTG.sum()\n",
    "second_half_goals = epl_data.SHG.sum()\n",
    "a  =[first_half_goals, second_half_goals]"
   ]
  },
  {
   "cell_type": "code",
   "execution_count": 60,
   "metadata": {},
   "outputs": [
    {
     "data": {
      "image/png": "[encoded data removed]",
      "text/plain": [
       "<Figure size 432x288 with 1 Axes>"
      ]
     },
     "metadata": {
      "needs_background": "light"
     },
     "output_type": "display_data"
    }
   ],
   "source": [
    "epl_data[['THTG', 'SHG']].sum().plot(kind='bar')\n",
    "plt.ylabel('Total Goals(count)')\n",
    "plt.title(label='Goals in Each Half')\n",
    "plt.show()"
   ]
  },
  {
   "cell_type": "markdown",
   "metadata": {},
   "source": [
    "##### The two plots above are just exploratory plots on how goals were distributed between the two halves of matches. The half-time goals plot shows that most matches usually only featured just no goals or a goal by halftime. The Goals in each half plot shows that more goals were scored in second halves of games than the first halves."
   ]
  },
  {
   "cell_type": "markdown",
   "metadata": {},
   "source": [
    "## Bivariate Exploration\n"
   ]
  },
  {
   "cell_type": "code",
   "execution_count": 75,
   "metadata": {},
   "outputs": [
    {
     "data": {
      "text/plain": [
       "['Div',\n",
       " 'Date',\n",
       " 'Time',\n",
       " 'HomeTeam',\n",
       " 'AwayTeam',\n",
       " 'FTHG',\n",
       " 'FTAG',\n",
       " 'FTR',\n",
       " 'HTHG',\n",
       " 'HTAG',\n",
       " 'HTR',\n",
       " 'Attendance',\n",
       " 'Referee',\n",
       " 'HS',\n",
       " 'AS',\n",
       " 'HST',\n",
       " 'AST',\n",
       " 'HF',\n",
       " 'AF',\n",
       " 'HC',\n",
       " 'AC',\n",
       " 'HY',\n",
       " 'AY',\n",
       " 'HR',\n",
       " 'AR',\n",
       " 'B365H',\n",
       " 'B365D',\n",
       " 'B365A',\n",
       " 'BWH',\n",
       " 'BWD',\n",
       " 'BWA',\n",
       " 'IWH',\n",
       " 'IWD',\n",
       " 'IWA',\n",
       " 'PSH',\n",
       " 'PSD',\n",
       " 'PSA',\n",
       " 'WHH',\n",
       " 'WHD',\n",
       " 'WHA',\n",
       " 'VCH',\n",
       " 'VCD',\n",
       " 'VCA',\n",
       " 'MaxH',\n",
       " 'MaxD',\n",
       " 'MaxA',\n",
       " 'AvgH',\n",
       " 'AvgD',\n",
       " 'AvgA',\n",
       " 'B365>2.5',\n",
       " 'B365<2.5',\n",
       " 'P>2.5',\n",
       " 'P<2.5',\n",
       " 'Max>2.5',\n",
       " 'Max<2.5',\n",
       " 'Avg>2.5',\n",
       " 'Avg<2.5',\n",
       " 'AHh',\n",
       " 'B365AHH',\n",
       " 'B365AHA',\n",
       " 'PAHH',\n",
       " 'PAHA',\n",
       " 'MaxAHH',\n",
       " 'MaxAHA',\n",
       " 'AvgAHH',\n",
       " 'AvgAHA',\n",
       " 'B365CH',\n",
       " 'B365CD',\n",
       " 'B365CA',\n",
       " 'BWCH',\n",
       " 'BWCD',\n",
       " 'BWCA',\n",
       " 'IWCH',\n",
       " 'IWCD',\n",
       " 'IWCA',\n",
       " 'PSCH',\n",
       " 'PSCD',\n",
       " 'PSCA',\n",
       " 'WHCH',\n",
       " 'WHCD',\n",
       " 'WHCA',\n",
       " 'VCCH',\n",
       " 'VCCD',\n",
       " 'VCCA',\n",
       " 'MaxCH',\n",
       " 'MaxCD',\n",
       " 'MaxCA',\n",
       " 'AvgCH',\n",
       " 'AvgCD',\n",
       " 'AvgCA',\n",
       " 'B365C>2.5',\n",
       " 'B365C<2.5',\n",
       " 'PC>2.5',\n",
       " 'PC<2.5',\n",
       " 'MaxC>2.5',\n",
       " 'MaxC<2.5',\n",
       " 'AvgC>2.5',\n",
       " 'AvgC<2.5',\n",
       " 'AHCh',\n",
       " 'B365CAHH',\n",
       " 'B365CAHA',\n",
       " 'PCAHH',\n",
       " 'PCAHA',\n",
       " 'MaxCAHH',\n",
       " 'MaxCAHA',\n",
       " 'AvgCAHH',\n",
       " 'AvgCAHA',\n",
       " 'season',\n",
       " 'TG',\n",
       " 'THTG',\n",
       " 'SHG']"
      ]
     },
     "execution_count": 75,
     "metadata": {},
     "output_type": "execute_result"
    }
   ],
   "source": [
    "# Dropping some columns that we will not use for any further analysis from the epl_data sheet.\n",
    "[i for i in epl_data.columns]"
   ]
  },
  {
   "cell_type": "code",
   "execution_count": 76,
   "metadata": {},
   "outputs": [],
   "source": [
    "epl_data.drop(columns=['HS',\n",
    " 'AS',\n",
    " 'HST',\n",
    " 'AST',\n",
    " 'HF',\n",
    " 'AF',\n",
    " 'HC',\n",
    " 'AC',\n",
    " 'HY',\n",
    " 'AY',\n",
    " 'HR',\n",
    " 'AR',\n",
    " 'B365H',\n",
    " 'B365D',\n",
    " 'B365A',\n",
    " 'BWH',\n",
    " 'BWD',\n",
    " 'BWA',\n",
    " 'IWH',\n",
    " 'IWD',\n",
    " 'IWA',\n",
    " 'PSH',\n",
    " 'PSD',\n",
    " 'PSA',\n",
    " 'WHH',\n",
    " 'WHD',\n",
    " 'WHA',\n",
    " 'VCH',\n",
    " 'VCD',\n",
    " 'VCA',\n",
    " 'MaxH',\n",
    " 'MaxD',\n",
    " 'MaxA',\n",
    " 'AvgH',\n",
    " 'AvgD',\n",
    " 'AvgA',\n",
    " 'B365>2.5',\n",
    " 'B365<2.5',\n",
    " 'P>2.5',\n",
    " 'P<2.5',\n",
    " 'Max>2.5',\n",
    " 'Max<2.5',\n",
    " 'Avg>2.5',\n",
    " 'Avg<2.5',\n",
    " 'AHh',\n",
    " 'B365AHH',\n",
    " 'B365AHA',\n",
    " 'PAHH',\n",
    " 'PAHA',\n",
    " 'MaxAHH',\n",
    " 'MaxAHA',\n",
    " 'AvgAHH',\n",
    " 'AvgAHA',\n",
    " 'B365CH',\n",
    " 'B365CD',\n",
    " 'B365CA',\n",
    " 'BWCH',\n",
    " 'BWCD',\n",
    " 'BWCA',\n",
    " 'IWCH',\n",
    " 'IWCD',\n",
    " 'IWCA',\n",
    " 'PSCH',\n",
    " 'PSCD',\n",
    " 'PSCA',\n",
    " 'WHCH',\n",
    " 'WHCD',\n",
    " 'WHCA',\n",
    " 'VCCH',\n",
    " 'VCCD',\n",
    " 'VCCA',\n",
    " 'MaxCH',\n",
    " 'MaxCD',\n",
    " 'MaxCA',\n",
    " 'AvgCH',\n",
    " 'AvgCD',\n",
    " 'AvgCA',\n",
    " 'B365C>2.5',\n",
    " 'B365C<2.5',\n",
    " 'PC>2.5',\n",
    " 'PC<2.5',\n",
    " 'MaxC>2.5',\n",
    " 'MaxC<2.5',\n",
    " 'AvgC>2.5',\n",
    " 'AvgC<2.5',\n",
    " 'AHCh',\n",
    " 'B365CAHH',\n",
    " 'B365CAHA',\n",
    " 'PCAHH',\n",
    " 'PCAHA',\n",
    " 'MaxCAHH',\n",
    " 'MaxCAHA',\n",
    " 'AvgCAHH',\n",
    " 'AvgCAHA'], inplace=True)"
   ]
  },
  {
   "cell_type": "code",
   "execution_count": 79,
   "metadata": {},
   "outputs": [
    {
     "data": {
      "text/html": [
       "<div>\n",
       "<style scoped>\n",
       "    .dataframe tbody tr th:only-of-type {\n",
       "        vertical-align: middle;\n",
       "    }\n",
       "\n",
       "    .dataframe tbody tr th {\n",
       "        vertical-align: top;\n",
       "    }\n",
       "\n",
       "    .dataframe thead th {\n",
       "        text-align: right;\n",
       "    }\n",
       "</style>\n",
       "<table border=\"1\" class=\"dataframe\">\n",
       "  <thead>\n",
       "    <tr style=\"text-align: right;\">\n",
       "      <th></th>\n",
       "      <th>Div</th>\n",
       "      <th>Date</th>\n",
       "      <th>Time</th>\n",
       "      <th>HomeTeam</th>\n",
       "      <th>AwayTeam</th>\n",
       "      <th>FTHG</th>\n",
       "      <th>FTAG</th>\n",
       "      <th>FTR</th>\n",
       "      <th>HTHG</th>\n",
       "      <th>HTAG</th>\n",
       "      <th>HTR</th>\n",
       "      <th>Attendance</th>\n",
       "      <th>Referee</th>\n",
       "      <th>season</th>\n",
       "      <th>TG</th>\n",
       "      <th>THTG</th>\n",
       "      <th>SHG</th>\n",
       "    </tr>\n",
       "  </thead>\n",
       "  <tbody>\n",
       "    <tr>\n",
       "      <th>0</th>\n",
       "      <td>E0</td>\n",
       "      <td>09/08/2019</td>\n",
       "      <td>20:00</td>\n",
       "      <td>Liverpool</td>\n",
       "      <td>Norwich</td>\n",
       "      <td>4</td>\n",
       "      <td>1</td>\n",
       "      <td>H</td>\n",
       "      <td>4</td>\n",
       "      <td>0</td>\n",
       "      <td>H</td>\n",
       "      <td>Fans</td>\n",
       "      <td>M Oliver</td>\n",
       "      <td>19_20</td>\n",
       "      <td>5</td>\n",
       "      <td>4</td>\n",
       "      <td>1</td>\n",
       "    </tr>\n",
       "    <tr>\n",
       "      <th>1</th>\n",
       "      <td>E0</td>\n",
       "      <td>10/08/2019</td>\n",
       "      <td>12:30</td>\n",
       "      <td>West Ham</td>\n",
       "      <td>Man City</td>\n",
       "      <td>0</td>\n",
       "      <td>5</td>\n",
       "      <td>A</td>\n",
       "      <td>0</td>\n",
       "      <td>1</td>\n",
       "      <td>A</td>\n",
       "      <td>Fans</td>\n",
       "      <td>M Dean</td>\n",
       "      <td>19_20</td>\n",
       "      <td>5</td>\n",
       "      <td>1</td>\n",
       "      <td>4</td>\n",
       "    </tr>\n",
       "    <tr>\n",
       "      <th>2</th>\n",
       "      <td>E0</td>\n",
       "      <td>10/08/2019</td>\n",
       "      <td>15:00</td>\n",
       "      <td>Bournemouth</td>\n",
       "      <td>Sheffield United</td>\n",
       "      <td>1</td>\n",
       "      <td>1</td>\n",
       "      <td>D</td>\n",
       "      <td>0</td>\n",
       "      <td>0</td>\n",
       "      <td>D</td>\n",
       "      <td>Fans</td>\n",
       "      <td>K Friend</td>\n",
       "      <td>19_20</td>\n",
       "      <td>2</td>\n",
       "      <td>0</td>\n",
       "      <td>2</td>\n",
       "    </tr>\n",
       "    <tr>\n",
       "      <th>3</th>\n",
       "      <td>E0</td>\n",
       "      <td>10/08/2019</td>\n",
       "      <td>15:00</td>\n",
       "      <td>Burnley</td>\n",
       "      <td>Southampton</td>\n",
       "      <td>3</td>\n",
       "      <td>0</td>\n",
       "      <td>H</td>\n",
       "      <td>0</td>\n",
       "      <td>0</td>\n",
       "      <td>D</td>\n",
       "      <td>Fans</td>\n",
       "      <td>G Scott</td>\n",
       "      <td>19_20</td>\n",
       "      <td>3</td>\n",
       "      <td>0</td>\n",
       "      <td>3</td>\n",
       "    </tr>\n",
       "    <tr>\n",
       "      <th>4</th>\n",
       "      <td>E0</td>\n",
       "      <td>10/08/2019</td>\n",
       "      <td>15:00</td>\n",
       "      <td>Crystal Palace</td>\n",
       "      <td>Everton</td>\n",
       "      <td>0</td>\n",
       "      <td>0</td>\n",
       "      <td>D</td>\n",
       "      <td>0</td>\n",
       "      <td>0</td>\n",
       "      <td>D</td>\n",
       "      <td>Fans</td>\n",
       "      <td>J Moss</td>\n",
       "      <td>19_20</td>\n",
       "      <td>0</td>\n",
       "      <td>0</td>\n",
       "      <td>0</td>\n",
       "    </tr>\n",
       "  </tbody>\n",
       "</table>\n",
       "</div>"
      ],
      "text/plain": [
       "  Div        Date   Time        HomeTeam          AwayTeam  FTHG  FTAG FTR  \\\n",
       "0  E0  09/08/2019  20:00       Liverpool           Norwich     4     1   H   \n",
       "1  E0  10/08/2019  12:30        West Ham          Man City     0     5   A   \n",
       "2  E0  10/08/2019  15:00     Bournemouth  Sheffield United     1     1   D   \n",
       "3  E0  10/08/2019  15:00         Burnley       Southampton     3     0   H   \n",
       "4  E0  10/08/2019  15:00  Crystal Palace           Everton     0     0   D   \n",
       "\n",
       "   HTHG  HTAG HTR Attendance   Referee season  TG  THTG  SHG  \n",
       "0     4     0   H       Fans  M Oliver  19_20   5     4    1  \n",
       "1     0     1   A       Fans    M Dean  19_20   5     1    4  \n",
       "2     0     0   D       Fans  K Friend  19_20   2     0    2  \n",
       "3     0     0   D       Fans   G Scott  19_20   3     0    3  \n",
       "4     0     0   D       Fans    J Moss  19_20   0     0    0  "
      ]
     },
     "execution_count": 79,
     "metadata": {},
     "output_type": "execute_result"
    }
   ],
   "source": [
    "epl_data.head()"
   ]
  },
  {
   "cell_type": "code",
   "execution_count": 106,
   "metadata": {},
   "outputs": [
    {
     "data": {
      "text/plain": [
       "<AxesSubplot:ylabel='Attendance'>"
      ]
     },
     "execution_count": 106,
     "metadata": {},
     "output_type": "execute_result"
    },
    {
     "data": {
      "image/png": "[encoded data removed]",
      "text/plain": [
       "<Figure size 432x288 with 1 Axes>"
      ]
     },
     "metadata": {},
     "output_type": "display_data"
    }
   ],
   "source": [
    "epl_data.groupby(['FTR'])['Attendance'].value_counts().plot(kind='pie')"
   ]
  },
  {
   "cell_type": "code",
   "execution_count": 182,
   "metadata": {},
   "outputs": [],
   "source": [
    "# Creating variables to show win rates for matches with fans and matches with no fans\n",
    "matches_with_fans = epl_data[epl_data['Attendance']=='Fans']['FTR'].value_counts()/len(epl_data[epl_data['Attendance']=='Fans']['Attendance'])*100\n",
    "matches_with_no_fans = epl_data[epl_data['Attendance']!='Fans']['FTR'].value_counts()/len(epl_data[epl_data['Attendance']!='Fans']['Attendance'])*100"
   ]
  },
  {
   "cell_type": "code",
   "execution_count": 192,
   "metadata": {
    "scrolled": true
   },
   "outputs": [
    {
     "data": {
      "image/png": "[encoded data removed]",
      "text/plain": [
       "<Figure size 432x288 with 1 Axes>"
      ]
     },
     "metadata": {},
     "output_type": "display_data"
    }
   ],
   "source": [
    "# Plotting a pie chart to show percentage win for matches with fans at stadiums\n",
    "\n",
    "pd.DataFrame(matches_with_fans).plot(kind='pie', subplots=True, labels=['Home', 'Away', 'Draw'],autopct='%1.1f%%')\n",
    "plt.title(label='Impact of Fans at Stadiums')\n",
    "plt.legend(loc='upper left')\n",
    "plt.show()\n",
    "\n"
   ]
  },
  {
   "cell_type": "markdown",
   "metadata": {},
   "source": [
    "##### For matches with fans allowed at the stadiums, the home team won 45.5%, away team won 30.8% and 23% ended in draws."
   ]
  },
  {
   "cell_type": "code",
   "execution_count": 326,
   "metadata": {
    "scrolled": true
   },
   "outputs": [
    {
     "data": {
      "image/png": "[encoded data removed]",
      "text/plain": [
       "<Figure size 432x288 with 1 Axes>"
      ]
     },
     "metadata": {},
     "output_type": "display_data"
    }
   ],
   "source": [
    "# Plotting a pie chart to show percentage win for matches with no fans at stadiums\n",
    "\n",
    "pd.DataFrame(matches_with_no_fans).plot(kind='pie', subplots=True, labels=['Home', 'Away', 'Draw'],autopct='%1.1f%%')\n",
    "plt.title(label='Impact of no Fans at Stadiums')\n",
    "plt.legend(loc='upper left')\n",
    "plt.show()"
   ]
  },
  {
   "cell_type": "markdown",
   "metadata": {},
   "source": [
    "##### For matches with no fans allowed at the stadium, Home team won 38.9% , Away team won 38.5% and 22.6% ended in draws. This virtually means that the concept of home advantage was wiped away with no fans at the stadium and both home and away team had an almost equal chance of winning games where fans were not allowed in stadiums"
   ]
  },
  {
   "cell_type": "code",
   "execution_count": 151,
   "metadata": {
    "scrolled": true
   },
   "outputs": [
    {
     "data": {
      "text/html": [
       "<div>\n",
       "<style scoped>\n",
       "    .dataframe tbody tr th:only-of-type {\n",
       "        vertical-align: middle;\n",
       "    }\n",
       "\n",
       "    .dataframe tbody tr th {\n",
       "        vertical-align: top;\n",
       "    }\n",
       "\n",
       "    .dataframe thead th {\n",
       "        text-align: right;\n",
       "    }\n",
       "</style>\n",
       "<table border=\"1\" class=\"dataframe\">\n",
       "  <thead>\n",
       "    <tr style=\"text-align: right;\">\n",
       "      <th></th>\n",
       "      <th></th>\n",
       "      <th>FTR</th>\n",
       "    </tr>\n",
       "    <tr>\n",
       "      <th>Attendance</th>\n",
       "      <th>FTR</th>\n",
       "      <th></th>\n",
       "    </tr>\n",
       "  </thead>\n",
       "  <tbody>\n",
       "    <tr>\n",
       "      <th rowspan=\"3\" valign=\"top\">Fans</th>\n",
       "      <th>A</th>\n",
       "      <td>95</td>\n",
       "    </tr>\n",
       "    <tr>\n",
       "      <th>D</th>\n",
       "      <td>73</td>\n",
       "    </tr>\n",
       "    <tr>\n",
       "      <th>H</th>\n",
       "      <td>140</td>\n",
       "    </tr>\n",
       "    <tr>\n",
       "      <th rowspan=\"3\" valign=\"top\">No Fans</th>\n",
       "      <th>A</th>\n",
       "      <td>174</td>\n",
       "    </tr>\n",
       "    <tr>\n",
       "      <th>D</th>\n",
       "      <td>102</td>\n",
       "    </tr>\n",
       "    <tr>\n",
       "      <th>H</th>\n",
       "      <td>176</td>\n",
       "    </tr>\n",
       "  </tbody>\n",
       "</table>\n",
       "</div>"
      ],
      "text/plain": [
       "                FTR\n",
       "Attendance FTR     \n",
       "Fans       A     95\n",
       "           D     73\n",
       "           H    140\n",
       "No Fans    A    174\n",
       "           D    102\n",
       "           H    176"
      ]
     },
     "execution_count": 151,
     "metadata": {},
     "output_type": "execute_result"
    }
   ],
   "source": [
    "# Grouping full time results by fan attendance\n",
    "\n",
    "pd.DataFrame(epl_data.groupby(['Attendance', 'FTR'])['FTR'].count())"
   ]
  },
  {
   "cell_type": "code",
   "execution_count": 103,
   "metadata": {},
   "outputs": [
    {
     "data": {
      "text/plain": [
       "<AxesSubplot:xlabel='FTR,Attendance'>"
      ]
     },
     "execution_count": 103,
     "metadata": {},
     "output_type": "execute_result"
    },
    {
     "data": {
      "image/png": "[encoded data removed]",
      "text/plain": [
       "<Figure size 432x288 with 1 Axes>"
      ]
     },
     "metadata": {
      "needs_background": "light"
     },
     "output_type": "display_data"
    }
   ],
   "source": [
    "#epl_data[(epl_data['Attendance']=='Fans') & (epl_data['FTR']=='H')]\n",
    "epl_data.groupby(['FTR'])['Attendance'].value_counts().plot(kind='bar')"
   ]
  },
  {
   "cell_type": "markdown",
   "metadata": {},
   "source": [
    "#### Now that we have confirmed that the absence of fans from stadiums virtually wiped out the concept of home advantage, we want to further check the impact on specific teams known to have very noisy fans and who rely a lot on the atmosphere created by fans during home matches"
   ]
  },
  {
   "cell_type": "code",
   "execution_count": 246,
   "metadata": {},
   "outputs": [],
   "source": [
    "# Grouping data by specific home teams\n",
    "a=epl_data.groupby(['HomeTeam'])"
   ]
  },
  {
   "cell_type": "code",
   "execution_count": 258,
   "metadata": {},
   "outputs": [
    {
     "data": {
      "text/plain": [
       "Attendance  FTR\n",
       "Fans        H      16\n",
       "No Fans     H      12\n",
       "            A       6\n",
       "            D       4\n",
       "dtype: int64"
      ]
     },
     "execution_count": 258,
     "metadata": {},
     "output_type": "execute_result"
    }
   ],
   "source": [
    "# Checking impact of absence of fans on Liverpool\n",
    "\n",
    "epl_data[(epl_data['HomeTeam']=='Liverpool')][['Attendance', 'FTR']].value_counts()"
   ]
  },
  {
   "cell_type": "code",
   "execution_count": 277,
   "metadata": {},
   "outputs": [],
   "source": [
    "# Finding win percentages for Liverpool home games without fans and with fans\n",
    "\n",
    "home_matches_with_fans = epl_data[(epl_data['HomeTeam']=='Liverpool') & (epl_data['Attendance']=='Fans')][['Attendance', 'FTR']].value_counts()\n",
    "home_matches_without_fans = epl_data[(epl_data['HomeTeam']=='Liverpool') & (epl_data['Attendance']!='Fans')][['Attendance', 'FTR']].value_counts()"
   ]
  },
  {
   "cell_type": "code",
   "execution_count": 294,
   "metadata": {},
   "outputs": [
    {
     "data": {
      "text/plain": [
       "[Attendance  FTR\n",
       " Fans        H      1.0\n",
       " dtype: float64,\n",
       " Attendance  FTR\n",
       " No Fans     H      0.545455\n",
       " dtype: float64]"
      ]
     },
     "execution_count": 294,
     "metadata": {},
     "output_type": "execute_result"
    }
   ],
   "source": [
    "([home_matches_with_fans[np.in1d(home_matches_with_fans.index.get_level_values(1), ['H'])]/home_matches_with_fans.sum(), \n",
    "         home_matches_without_fans[np.in1d(home_matches_without_fans.index.get_level_values(1), ['H'])]/home_matches_without_fans.sum()])"
   ]
  },
  {
   "cell_type": "code",
   "execution_count": 316,
   "metadata": {},
   "outputs": [],
   "source": [
    "tre = pd.DataFrame(home_matches_with_fans[np.in1d(home_matches_with_fans.index.get_level_values(1), ['H'])]/home_matches_with_fans.sum()*100)"
   ]
  },
  {
   "cell_type": "code",
   "execution_count": 317,
   "metadata": {},
   "outputs": [],
   "source": [
    "tre2 = pd.DataFrame(home_matches_without_fans[np.in1d(home_matches_without_fans.index.get_level_values(1), ['H'])]/home_matches_without_fans.sum()*100)"
   ]
  },
  {
   "cell_type": "code",
   "execution_count": 318,
   "metadata": {},
   "outputs": [
    {
     "data": {
      "text/plain": [
       "<AxesSubplot:xlabel='Attendance,FTR'>"
      ]
     },
     "execution_count": 318,
     "metadata": {},
     "output_type": "execute_result"
    },
    {
     "data": {
      "image/png": "[encoded data removed]",
      "text/plain": [
       "<Figure size 432x288 with 1 Axes>"
      ]
     },
     "metadata": {
      "needs_background": "light"
     },
     "output_type": "display_data"
    }
   ],
   "source": [
    "# Plotting win percentages of Liverpool home games with fans and without fans on a bar chart\n",
    "\n",
    "pd.concat([tre, tre2]).plot(kind='bar')"
   ]
  },
  {
   "cell_type": "markdown",
   "metadata": {},
   "source": [
    "#### It can be clearly seem from the above plot that Liverpool won all games played at their home ground when fans were allowed into stadiums. However, they only won 54% of their home matches with no fans allowed at their home ground \"Anfield\""
   ]
  },
  {
   "cell_type": "code",
   "execution_count": 238,
   "metadata": {
    "scrolled": false
   },
   "outputs": [
    {
     "data": {
      "text/plain": [
       "<bound method DataFrame.reset_index of                                  FTR\n",
       "HomeTeam         Attendance FTR     \n",
       "Arsenal          Fans       H      8\n",
       "                            D      5\n",
       "                            A      3\n",
       "                 No Fans    H     10\n",
       "                            A      7\n",
       "                            D      5\n",
       "Aston Villa      Fans       A      6\n",
       "                            H      6\n",
       "                            D      2\n",
       "                 No Fans    A     11\n",
       "                            H      8\n",
       "                            D      5\n",
       "Bournemouth      Fans       A      5\n",
       "                            D      5\n",
       "                            H      4\n",
       "                 No Fans    A      3\n",
       "                            D      1\n",
       "                            H      1\n",
       "Brighton         Fans       D      6\n",
       "                            H      5\n",
       "                            A      4\n",
       "                 No Fans    D     10\n",
       "                            A      9\n",
       "                            H      4\n",
       "Burnley          Fans       A      7\n",
       "                            H      7\n",
       "                            D      2\n",
       "                 No Fans    A      9\n",
       "                            D      8\n",
       "                            H      5\n",
       "Chelsea          Fans       H      8\n",
       "                            A      5\n",
       "                            D      3\n",
       "                 No Fans    H     12\n",
       "                            D      6\n",
       "                            A      4\n",
       "Crystal Palace   Fans       A      6\n",
       "                            H      6\n",
       "                            D      4\n",
       "                 No Fans    A     10\n",
       "                            D      6\n",
       "                            H      6\n",
       "Everton          Fans       H      8\n",
       "                            D      4\n",
       "                            A      3\n",
       "                 No Fans    A     10\n",
       "                            D      7\n",
       "                            H      6\n",
       "Fulham           Fans       A      1\n",
       "                 No Fans    A     12\n",
       "                            D      4\n",
       "                            H      2\n",
       "Leeds            Fans       H      1\n",
       "                 No Fans    H      7\n",
       "                            A      6\n",
       "                            D      5\n",
       "Leicester        Fans       H      9\n",
       "                            A      4\n",
       "                            D      3\n",
       "                 No Fans    H     11\n",
       "                            A      9\n",
       "                            D      2\n",
       "Liverpool        Fans       H     16\n",
       "                 No Fans    H     12\n",
       "                            A      6\n",
       "                            D      4\n",
       "Man City         Fans       H     10\n",
       "                            A      2\n",
       "                            D      2\n",
       "                 No Fans    H     18\n",
       "                            A      4\n",
       "                            D      2\n",
       "Man United       Fans       H      8\n",
       "                            D      6\n",
       "                            A      2\n",
       "                 No Fans    H     11\n",
       "                            A      6\n",
       "                            D      5\n",
       "Newcastle        Fans       D      6\n",
       "                            H      6\n",
       "                            A      3\n",
       "                 No Fans    A     10\n",
       "                            D      7\n",
       "                            H      6\n",
       "Norwich          Fans       A      7\n",
       "                            H      4\n",
       "                            D      3\n",
       "                 No Fans    A      5\n",
       "Sheffield United Fans       H      8\n",
       "                            A      5\n",
       "                            D      3\n",
       "                 No Fans    A     14\n",
       "                            H      7\n",
       "                            D      1\n",
       "Southampton      Fans       A     10\n",
       "                            H      4\n",
       "                            D      2\n",
       "                 No Fans    H     10\n",
       "                            A      8\n",
       "                            D      4\n",
       "Tottenham        Fans       H      8\n",
       "                            A      5\n",
       "                            D      2\n",
       "                 No Fans    H     14\n",
       "                            A      5\n",
       "                            D      4\n",
       "Watford          Fans       A      5\n",
       "                            D      5\n",
       "                            H      4\n",
       "                 No Fans    A      2\n",
       "                            H      2\n",
       "                            D      1\n",
       "West Brom        Fans       A      1\n",
       "                 No Fans    A      9\n",
       "                            D      6\n",
       "                            H      3\n",
       "West Ham         Fans       A      7\n",
       "                            H      5\n",
       "                            D      3\n",
       "                 No Fans    H     11\n",
       "                            A      7\n",
       "                            D      5\n",
       "Wolves           Fans       D      7\n",
       "                            H      5\n",
       "                            A      4\n",
       "                 No Fans    H     10\n",
       "                            A      8\n",
       "                            D      4>"
      ]
     },
     "execution_count": 238,
     "metadata": {},
     "output_type": "execute_result"
    }
   ],
   "source": [
    "pd.DataFrame(epl_data.groupby(['HomeTeam', 'Attendance'])['FTR'].value_counts()).reset_index"
   ]
  },
  {
   "cell_type": "markdown",
   "metadata": {},
   "source": [
    "### Talk about some of the relationships you observed in this part of the investigation. Were there features that strengthened each other in terms of looking at your feature(s) of interest?\n",
    "\n",
    "> In my investigation of impact of no fans at stadiums on home advantage, i observed that fan absence had a huge negative impact on almost every positive result metric for the home team. Home teams generally scored fewer goals and had fewer wins with no fans than when fans were allowed in stadiums\n",
    "\n",
    "### Were there any interesting or surprising interactions between features?\n",
    "\n",
    "> Even though i expecetd that home advantage would be impacted by absence of fans, it was still surprising to how much a team like Liverpool was impacted by the ban of fans from Stadiums. The fact that their win rate without fans dropped to 54% from a 100% win rate with fans was astonishing."
   ]
  },
  {
   "cell_type": "markdown",
   "metadata": {},
   "source": [
    "## Conclusions\n",
    ">It is very clear that absence of fans had a huge impact on home advantage. From the above trends, absence of fans virtually wiped out home advantage and gave the away team an almost equal chance of winning games.\n"
   ]
  }
 ],
 "metadata": {
  "kernelspec": {
   "display_name": "Python 3 (ipykernel)",
   "language": "python",
   "name": "python3"
  },
  "language_info": {
   "codemirror_mode": {
    "name": "ipython",
    "version": 3
   },
   "file_extension": ".py",
   "mimetype": "text/x-python",
   "name": "python",
   "nbconvert_exporter": "python",
   "pygments_lexer": "ipython3",
   "version": "3.9.12"
  }
 },
 "nbformat": 4,
 "nbformat_minor": 2
}
