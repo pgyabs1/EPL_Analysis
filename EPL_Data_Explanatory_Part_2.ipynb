{
 "cells": [
  {
   "cell_type": "markdown",
   "metadata": {
    "slideshow": {
     "slide_type": "slide"
    }
   },
   "source": [
    "# Part II - Impact of Fan Presence at Stadiums on Home Team Results\n",
    "## by (Yaw Poku Gyabaah)"
   ]
  },
  {
   "cell_type": "markdown",
   "metadata": {
    "slideshow": {
     "slide_type": "slide"
    }
   },
   "source": [
    "\n",
    "## Investigation Overview\n",
    "\n",
    "\n",
    "> This data set explores whether the abscence of fans from stadiums during the covid period had any impact on match results for english premier league matches played during the 2019/2020 and 2020/2021 seasons.\n",
    "\n",
    "\n",
    "\n",
    "## Dataset Overview\n",
    "\n",
    "> The dataset contains data on 760 english premier league matches played during the 2019/2020 and 2020/2021 seasons. There is data on match result, goals scored by home team at half time and at full time, goals scored by away team at half time and at full time, goals scored by half time and goals scored at fulltime. "
   ]
  },
  {
   "cell_type": "code",
   "execution_count": 1,
   "metadata": {
    "slideshow": {
     "slide_type": "skip"
    }
   },
   "outputs": [],
   "source": [
    "# import all packages and set plots to be embedded inline\n",
    "import numpy as np\n",
    "import pandas as pd\n",
    "import matplotlib.pyplot as plt\n",
    "import seaborn as sb\n",
    "\n",
    "%matplotlib inline\n",
    "\n",
    "# suppress warnings from final output\n",
    "import warnings\n",
    "warnings.simplefilter(\"ignore\")"
   ]
  },
  {
   "cell_type": "code",
   "execution_count": 3,
   "metadata": {
    "slideshow": {
     "slide_type": "skip"
    }
   },
   "outputs": [],
   "source": [
    "# load in the dataset into a pandas dataframe\n",
    "epl_2019_20=pd.read_csv(r'C:\\Users\\gyabaah.poku\\OneDrive - Vodafone Group\\VDF Project\\PY\\Udacity Data Science\\English Premier League Database\\2019-20.csv')\n",
    "epl_2020_21=pd.read_csv(r'C:\\Users\\gyabaah.poku\\OneDrive - Vodafone Group\\VDF Project\\PY\\Udacity Data Science\\English Premier League Database\\2020-21.csv')\n",
    "epl_2019_20.loc[:, 'season'] = '19_20'\n",
    "epl_2020_21.loc[:, 'season'] = '20_21'\n",
    "epl_data = pd.concat([epl_2019_20,epl_2020_21])\n",
    "\n"
   ]
  },
  {
   "cell_type": "code",
   "execution_count": 4,
   "metadata": {
    "slideshow": {
     "slide_type": "skip"
    }
   },
   "outputs": [],
   "source": [
    "epl_data.loc[:, 'TG'] = epl_data.FTHG + epl_data.FTAG\n",
    "epl_data.loc[:, 'THTG'] = epl_data.HTHG + epl_data.HTAG\n",
    "epl_data.loc[:, 'SHG'] = epl_data.TG - epl_data.THTG\n"
   ]
  },
  {
   "cell_type": "code",
   "execution_count": 5,
   "metadata": {
    "slideshow": {
     "slide_type": "skip"
    }
   },
   "outputs": [],
   "source": [
    "matches_with_fans = epl_data[epl_data['Attendance']=='Fans']['FTR'].value_counts()/len(epl_data[epl_data['Attendance']=='Fans']['Attendance'])*100\n",
    "matches_with_no_fans = epl_data[epl_data['Attendance']!='Fans']['FTR'].value_counts()/len(epl_data[epl_data['Attendance']!='Fans']['Attendance'])*100"
   ]
  },
  {
   "cell_type": "markdown",
   "metadata": {
    "slideshow": {
     "slide_type": "notes"
    }
   },
   "source": [
    "> Note that the above cells have been set as \"Skip\"-type slides. That means\n",
    "that when the notebook is rendered as http slides, those cells won't show up."
   ]
  },
  {
   "cell_type": "markdown",
   "metadata": {
    "slideshow": {
     "slide_type": "slide"
    }
   },
   "source": [
    "## Impact of having fans at Stadiums\n",
    "\n",
    "> The below pie chart shows that the concept of home advantage was very much alive when fans were allowed at stadiums pre-covid. Home teams won a little over 45% of games while away teams won just shy of 31% of games with 24% of games ending in a draw."
   ]
  },
  {
   "cell_type": "code",
   "execution_count": 6,
   "metadata": {
    "slideshow": {
     "slide_type": "subslide"
    }
   },
   "outputs": [
    {
     "data": {
      "image/png": "[encoded data removed]",
      "text/plain": [
       "<Figure size 432x288 with 1 Axes>"
      ]
     },
     "metadata": {},
     "output_type": "display_data"
    }
   ],
   "source": [
    "pd.DataFrame(matches_with_fans).plot(kind='pie', subplots=True, labels=['Home', 'Away', 'Draw'],autopct='%1.1f%%')\n",
    "plt.title(label='Impact of Fans at Stadiums')\n",
    "plt.legend(loc='upper left')\n",
    "plt.show()"
   ]
  },
  {
   "cell_type": "markdown",
   "metadata": {
    "collapsed": true,
    "slideshow": {
     "slide_type": "slide"
    }
   },
   "source": [
    "## Impact of having no fans at Stadiums\n",
    "\n",
    "> The below pie chart confirms that once fans were not allowed into stadiums during the covid pandemic era, the concept of home advantage was virtually wiped away. Both the home team and away team won just above 38% of games played without fans with just over 22% of the games ending in a draw."
   ]
  },
  {
   "cell_type": "code",
   "execution_count": 7,
   "metadata": {
    "scrolled": true,
    "slideshow": {
     "slide_type": "subslide"
    }
   },
   "outputs": [
    {
     "data": {
      "image/png": "[encoded data removed]",
      "text/plain": [
       "<Figure size 432x288 with 1 Axes>"
      ]
     },
     "metadata": {},
     "output_type": "display_data"
    }
   ],
   "source": [
    "pd.DataFrame(matches_with_no_fans).plot(kind='pie', subplots=True, labels=['Home', 'Away', 'Draw'],autopct='%1.1f%%')\n",
    "plt.title(label='Impact of no Fans at Stadiums')\n",
    "plt.legend(loc='upper left')\n",
    "plt.show()"
   ]
  },
  {
   "cell_type": "markdown",
   "metadata": {
    "slideshow": {
     "slide_type": "slide"
    }
   },
   "source": [
    "## We now explore how some specific football teams  were impacted by having no fans at the stadium for their games during the covid era"
   ]
  },
  {
   "cell_type": "markdown",
   "metadata": {
    "slideshow": {
     "slide_type": "slide"
    }
   },
   "source": [
    "## How Liverpool FC were impacted by the playing of matches with no fans at stadiums\n",
    "\n",
    "> Liverpool FC were hugely impacted by having no fans at Anfield. We can see from the below plot that they won 100% of all matches played at a full Anfield while they only won just about 54% of games played at an empty Anfield.\n",
    "\n"
   ]
  },
  {
   "cell_type": "code",
   "execution_count": 43,
   "metadata": {
    "scrolled": false,
    "slideshow": {
     "slide_type": "skip"
    }
   },
   "outputs": [
    {
     "name": "stdout",
     "output_type": "stream",
     "text": [
      "Attendance  FTR\n",
      "Fans        H      16\n",
      "dtype: int64\n",
      "Attendance  FTR\n",
      "No Fans     H      12\n",
      "            A       6\n",
      "            D       4\n",
      "dtype: int64\n"
     ]
    }
   ],
   "source": [
    "home_matches_with_fans = epl_data[(epl_data['HomeTeam']=='Liverpool') & (epl_data['Attendance']=='Fans')][['Attendance', 'FTR']].value_counts()\n",
    "home_matches_without_fans = epl_data[(epl_data['HomeTeam']=='Liverpool') & (epl_data['Attendance']!='Fans')][['Attendance', 'FTR']].value_counts()\n",
    "print(home_matches_with_fans)\n",
    "print(home_matches_without_fans)"
   ]
  },
  {
   "cell_type": "code",
   "execution_count": 50,
   "metadata": {
    "scrolled": true,
    "slideshow": {
     "slide_type": "subslide"
    }
   },
   "outputs": [
    {
     "data": {
      "image/png": "[encoded data removed]",
      "text/plain": [
       "<Figure size 432x288 with 1 Axes>"
      ]
     },
     "metadata": {
      "needs_background": "light"
     },
     "output_type": "display_data"
    }
   ],
   "source": [
    "full_anfield = pd.DataFrame(home_matches_with_fans[np.in1d(home_matches_with_fans.index.get_level_values(1), ['H'])]/home_matches_with_fans.sum()*100)\n",
    "empty_anfield = pd.DataFrame(home_matches_without_fans[np.in1d(home_matches_without_fans.index.get_level_values(1), ['H'])]/home_matches_without_fans.sum()*100)\n",
    "pd.concat([full_anfield, empty_anfield]).plot(kind='bar')\n",
    "plt.title(label='Impact of no Fans at Stadiums for Liverpool Home games')\n",
    "plt.xlabel('% Wins with fans and with no fans')\n",
    "plt.ylabel('Win Rate (%)')\n",
    "plt.show()"
   ]
  },
  {
   "cell_type": "markdown",
   "metadata": {
    "slideshow": {
     "slide_type": "slide"
    }
   },
   "source": [
    "## How Leeds United were impacted by the playing of matches with no fans at stadiums\n",
    "\n",
    "> Leeds United were also hugely impacted by having no fans at Elland road. We can see that win rate for matches with fans at stadiums was exponentially higher than the win rate for matches played behind closed doors"
   ]
  },
  {
   "cell_type": "code",
   "execution_count": 52,
   "metadata": {
    "scrolled": false,
    "slideshow": {
     "slide_type": "skip"
    }
   },
   "outputs": [],
   "source": [
    "home_matches_with_fans = epl_data[(epl_data['HomeTeam']=='Leeds') & (epl_data['Attendance']=='Fans')][['Attendance', 'FTR']].value_counts()\n",
    "home_matches_without_fans = epl_data[(epl_data['HomeTeam']=='Leeds') & (epl_data['Attendance']!='Fans')][['Attendance', 'FTR']].value_counts()"
   ]
  },
  {
   "cell_type": "code",
   "execution_count": 53,
   "metadata": {
    "scrolled": false,
    "slideshow": {
     "slide_type": "subslide"
    }
   },
   "outputs": [
    {
     "data": {
      "image/png": "[encoded data removed]",
      "text/plain": [
       "<Figure size 432x288 with 1 Axes>"
      ]
     },
     "metadata": {
      "needs_background": "light"
     },
     "output_type": "display_data"
    }
   ],
   "source": [
    "full_elland_road = pd.DataFrame(home_matches_with_fans[np.in1d(home_matches_with_fans.index.get_level_values(1), ['H'])]/home_matches_with_fans.sum()*100)\n",
    "empty_elland_road = pd.DataFrame(home_matches_without_fans[np.in1d(home_matches_without_fans.index.get_level_values(1), ['H'])]/home_matches_without_fans.sum()*100)\n",
    "pd.concat([full_elland_road, empty_elland_road]).plot(kind='bar')\n",
    "plt.title(label='Impact of no Fans at Stadiums for Leeds Home games')\n",
    "plt.xlabel('% Wins with fans and with no fans')\n",
    "plt.ylabel('Win Rate (%)')\n",
    "plt.show()"
   ]
  },
  {
   "cell_type": "markdown",
   "metadata": {
    "slideshow": {
     "slide_type": "slide"
    }
   },
   "source": [
    "## How Newcastle United were impacted by the playing of matches with no fans at stadiums\n",
    "\n",
    "> Newcastle United were also hugely impacted by having no fans at St. James' Park. Their win rate with fans at the stadium was pegged at 45% while they only won 25% of home matches without fans at the stadium."
   ]
  },
  {
   "cell_type": "code",
   "execution_count": 54,
   "metadata": {
    "scrolled": false,
    "slideshow": {
     "slide_type": "skip"
    }
   },
   "outputs": [],
   "source": [
    "home_matches_with_fans = epl_data[(epl_data['HomeTeam']=='Newcastle') & (epl_data['Attendance']=='Fans')][['Attendance', 'FTR']].value_counts()\n",
    "home_matches_without_fans = epl_data[(epl_data['HomeTeam']=='Newcastle') & (epl_data['Attendance']!='Fans')][['Attendance', 'FTR']].value_counts()"
   ]
  },
  {
   "cell_type": "code",
   "execution_count": 55,
   "metadata": {
    "scrolled": false,
    "slideshow": {
     "slide_type": "subslide"
    }
   },
   "outputs": [
    {
     "data": {
      "image/png": "[encoded data removed]",
      "text/plain": [
       "<Figure size 432x288 with 1 Axes>"
      ]
     },
     "metadata": {
      "needs_background": "light"
     },
     "output_type": "display_data"
    }
   ],
   "source": [
    "full_st_james = pd.DataFrame(home_matches_with_fans[np.in1d(home_matches_with_fans.index.get_level_values(1), ['H'])]/home_matches_with_fans.sum()*100)\n",
    "empty_st_james = pd.DataFrame(home_matches_without_fans[np.in1d(home_matches_without_fans.index.get_level_values(1), ['H'])]/home_matches_without_fans.sum()*100)\n",
    "pd.concat([full_st_james, empty_st_james]).plot(kind='bar')\n",
    "plt.title(label='Impact of no Fans at Stadiums for Newcastle Home games')\n",
    "plt.xlabel('% Wins with fans and with no fans')\n",
    "plt.ylabel('Win Rate (%)')\n",
    "plt.show()"
   ]
  },
  {
   "cell_type": "markdown",
   "metadata": {
    "slideshow": {
     "slide_type": "slide"
    }
   },
   "source": [
    "## How Sheffield United were impacted by the playing of matches with no fans at stadiums\n",
    "\n",
    "> Sheffield United were also hugely impacted by having no fans at Bramall Lane. Their win rate with fans at the stadium was pegged at 50% while they only won 30% of home matches without fans at the stadium."
   ]
  },
  {
   "cell_type": "code",
   "execution_count": 56,
   "metadata": {
    "scrolled": false,
    "slideshow": {
     "slide_type": "skip"
    }
   },
   "outputs": [],
   "source": [
    "home_matches_with_fans = epl_data[(epl_data['HomeTeam']=='Sheffield United') & (epl_data['Attendance']=='Fans')][['Attendance', 'FTR']].value_counts()\n",
    "home_matches_without_fans = epl_data[(epl_data['HomeTeam']=='Sheffield United') & (epl_data['Attendance']!='Fans')][['Attendance', 'FTR']].value_counts()"
   ]
  },
  {
   "cell_type": "code",
   "execution_count": 58,
   "metadata": {
    "scrolled": true,
    "slideshow": {
     "slide_type": "subslide"
    }
   },
   "outputs": [
    {
     "data": {
      "image/png": "[encoded data removed]",
      "text/plain": [
       "<Figure size 432x288 with 1 Axes>"
      ]
     },
     "metadata": {
      "needs_background": "light"
     },
     "output_type": "display_data"
    }
   ],
   "source": [
    "full_bramall_lane = pd.DataFrame(home_matches_with_fans[np.in1d(home_matches_with_fans.index.get_level_values(1), ['H'])]/home_matches_with_fans.sum()*100)\n",
    "empty_bramall_lane = pd.DataFrame(home_matches_without_fans[np.in1d(home_matches_without_fans.index.get_level_values(1), ['H'])]/home_matches_without_fans.sum()*100)\n",
    "pd.concat([full_bramall_lane, empty_bramall_lane]).plot(kind='bar')\n",
    "plt.title(label='Impact of no Fans at Stadiums for Sheffield United Home games')\n",
    "plt.xlabel('% Wins with fans and with no fans')\n",
    "plt.ylabel('Win Rate (%)')\n",
    "plt.show()"
   ]
  },
  {
   "cell_type": "markdown",
   "metadata": {
    "slideshow": {
     "slide_type": "slide"
    }
   },
   "source": [
    "## Beyond exploring how no fans at stadiums affected the home team , we also wanted to explore how away teams were impacted by not having to deal with the pressure of the home fans. We decided to use Manchester United as a test case. Manchester United were chosen because the current iteration of the team seems to wilt under the slightest bit of pressure"
   ]
  },
  {
   "cell_type": "markdown",
   "metadata": {
    "slideshow": {
     "slide_type": "slide"
    }
   },
   "source": [
    "## How Manchester United away games were affected by the playing of matches with no fans at stadiums\n",
    "\n",
    "> Exploring how Manchester United fared at away games without fans at the stadium, it becomes clear that they were helped a lot by having no fans at the stadium. They won about 60% of away games without fans at the stadium compared to just 30% with fans at the stadium. \n",
    "\n"
   ]
  },
  {
   "cell_type": "code",
   "execution_count": 59,
   "metadata": {
    "scrolled": false,
    "slideshow": {
     "slide_type": "skip"
    }
   },
   "outputs": [],
   "source": [
    "away_matches_with_fans = epl_data[(epl_data['AwayTeam']=='Man United') & (epl_data['Attendance']=='Fans')][['Attendance', 'FTR']].value_counts()\n",
    "away_matches_without_fans = epl_data[(epl_data['AwayTeam']=='Man United') & (epl_data['Attendance']!='Fans')][['Attendance', 'FTR']].value_counts()"
   ]
  },
  {
   "cell_type": "code",
   "execution_count": 69,
   "metadata": {
    "scrolled": true,
    "slideshow": {
     "slide_type": "subslide"
    }
   },
   "outputs": [
    {
     "data": {
      "image/png": "[encoded data removed]",
      "text/plain": [
       "<Figure size 504x216 with 1 Axes>"
      ]
     },
     "metadata": {
      "needs_background": "light"
     },
     "output_type": "display_data"
    }
   ],
   "source": [
    "man_united_away_fans = pd.DataFrame(away_matches_with_fans[np.in1d(away_matches_with_fans.index.get_level_values(1), ['A'])]/away_matches_with_fans.sum()*100)\n",
    "man_united_away_no_fans = pd.DataFrame(away_matches_without_fans[np.in1d(away_matches_without_fans.index.get_level_values(1), ['A'])]/away_matches_without_fans.sum()*100)\n",
    "pd.concat([man_united_away_fans, man_united_away_no_fans]).plot(kind='bar',figsize=(7,3))\n",
    "plt.title(label='Impact of no Fans at Stadiums for Man United Away games')\n",
    "plt.xlabel('% Wins with fans and with no fans')\n",
    "plt.ylabel('Win Rate (%)')\n",
    "plt.legend()\n",
    "plt.show()\n"
   ]
  },
  {
   "cell_type": "markdown",
   "metadata": {
    "slideshow": {
     "slide_type": "notes"
    }
   },
   "source": [
    ">**Generate Slideshow**: Once you're ready to generate your slideshow, use the `jupyter nbconvert` command to generate the HTML slide show. . From the terminal or command line, use the following expression."
   ]
  },
  {
   "cell_type": "code",
   "execution_count": null,
   "metadata": {
    "slideshow": {
     "slide_type": "skip"
    }
   },
   "outputs": [],
   "source": [
    "!jupyter nbconvert EPL_Data_Explanatory_Part_2.ipynb --to slides --post serve --no-input --no-prompt"
   ]
  },
  {
   "cell_type": "markdown",
   "metadata": {
    "slideshow": {
     "slide_type": "notes"
    }
   },
   "source": [
    "> This should open a tab in your web browser where you can scroll through your presentation. Sub-slides can be accessed by pressing 'down' when viewing its parent slide. Make sure you remove all of the quote-formatted guide notes like this one before you finish your presentation! At last, you can stop the Kernel. "
   ]
  },
  {
   "cell_type": "code",
   "execution_count": null,
   "metadata": {},
   "outputs": [],
   "source": []
  }
 ],
 "metadata": {
  "celltoolbar": "Slideshow",
  "kernelspec": {
   "display_name": "Python 3 (ipykernel)",
   "language": "python",
   "name": "python3"
  },
  "language_info": {
   "codemirror_mode": {
    "name": "ipython",
    "version": 3
   },
   "file_extension": ".py",
   "mimetype": "text/x-python",
   "name": "python",
   "nbconvert_exporter": "python",
   "pygments_lexer": "ipython3",
   "version": "3.9.12"
  }
 },
 "nbformat": 4,
 "nbformat_minor": 2
}
